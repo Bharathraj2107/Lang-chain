{
 "cells": [
  {
   "cell_type": "code",
   "execution_count": 2,
   "id": "f0c9a9f6-e32c-4824-ad2b-c5898935cffc",
   "metadata": {},
   "outputs": [
    {
     "name": "stdout",
     "output_type": "stream",
     "text": [
      "Here is a short poem about the stars:\n",
      "\n",
      "The stars up in the midnight sky,\n",
      "A twinkling show, so high and wide.\n",
      "Their gentle sparkle catches my eye,\n",
      "As I gaze out, feeling alive.\n",
      "\n",
      "Like diamonds shining bright and true,\n",
      "They guide me through, to think anew.\n",
      "Of dreams and wishes, yet to come,\n",
      "And the magic that's yet to be won.\n",
      "\n",
      "Oh, stars up in the midnight sky,\n",
      "How you make my heart feel spry!\n",
      "A reminder of life's grand design,\n",
      "And the beauty that's always divine.\n"
     ]
    }
   ],
   "source": [
    "from langchain_ollama import OllamaLLM\n",
    "\n",
    "# Initialize the model\n",
    "llm = OllamaLLM(model=\"llama3\")\n",
    "\n",
    "# Run a prompt\n",
    "response = llm.invoke(\"Write a short poem about the stars.\")\n",
    "print(response)\n",
    "#temperature is 0 it is safe and it is not taking any bats.If 1 means it may take risk and may generate wrong output and very creative at the same time\n",
    "# Low temperature = predictable output\n",
    "# High temperature = more creative/output varies"
   ]
  },
  {
   "cell_type": "code",
   "execution_count": 3,
   "id": "01bf8ee5-8106-4ea9-befd-68cd6bad2fb2",
   "metadata": {},
   "outputs": [
    {
     "name": "stdout",
     "output_type": "stream",
     "text": [
      "Low temp: The capital of France is Paris.\n"
     ]
    }
   ],
   "source": [
    "from langchain_ollama import OllamaLLM\n",
    "llm = OllamaLLM(model=\"llama3\", temperature=0.2)\n",
    "response = llm.invoke(\"What is the capital of France?\")\n",
    "print(\"Low temp:\", response)"
   ]
  },
  {
   "cell_type": "code",
   "execution_count": 4,
   "id": "fa933080-2973-4fdd-9353-e3755272beef",
   "metadata": {},
   "outputs": [
    {
     "data": {
      "text/plain": [
       "'I want to open a restaurant for Mexican food.Suggest a fancy name for this '"
      ]
     },
     "execution_count": 4,
     "metadata": {},
     "output_type": "execute_result"
    }
   ],
   "source": [
    "from langchain.prompts import PromptTemplate\n",
    "prompt_template_name=PromptTemplate(\n",
    "    input_variables=['cuisine'],\n",
    "    template=\"I want to open a restaurant for {cuisine} food.Suggest a fancy name for this \"\n",
    ")\n",
    "prompt_template_name.format(cuisine=\"Mexican\")"
   ]
  },
  {
   "cell_type": "code",
   "execution_count": 7,
   "id": "22498b91-7f2c-4ee4-8710-bee0d358dc31",
   "metadata": {},
   "outputs": [
    {
     "data": {
      "text/plain": [
       "{'cuisine': 'American',\n",
       " 'text': \"Exciting venture! Here are some fancy name suggestions for your American food restaurant:\\n\\n1. **Liberty Bites**: A playful nod to American independence and the idea of taking a bite out of something delicious.\\n2. **Main Street Eats**: Evoking the classic American diner experience, with a modern twist.\\n3. **Star-Spangled Grille**: A name that references the iconic American flag and promises a star-studded dining experience.\\n4. **Appalachian Table**: Honoring the rich culinary heritage of the Appalachian region, with a focus on hearty, comforting dishes.\\n5. **Pioneer's Plate**: Celebrating the adventurous spirit of American pioneers and the idea of trying new flavors.\\n6. **The American Mosaic**: A name that reflects the diverse cultural influences that have shaped American cuisine, presented in a vibrant, colorful way.\\n7. **Red, White & Delicious**: A playful take on the American flag's colors, emphasizing the deliciousness of your menu offerings.\\n8. **Crossroads Café**: Suggesting a meeting point for people from all walks of life to gather and enjoy good food.\\n9. **The Melting Pot Kitchen**: A name that references the cultural melting pot that is America, with a focus on blending flavors and cuisines.\\n10. **All-American Eats**: A straightforward, patriotic name that promises a classic American dining experience.\\n\\nChoose the one that resonates with your vision and values!\"}"
      ]
     },
     "execution_count": 7,
     "metadata": {},
     "output_type": "execute_result"
    }
   ],
   "source": [
    "from langchain.chains import LLMChain\n",
    "chain =LLMChain(llm=llm,prompt=prompt_template_name)#here we are linking the llm we create above and the prompt_template_name to the prompt \n",
    "chain.invoke(\"American\")"
   ]
  },
  {
   "cell_type": "code",
   "execution_count": 8,
   "id": "6331165f-89cc-44e4-8b1c-133112955832",
   "metadata": {},
   "outputs": [],
   "source": [
    "#simplesequentialchain->the output of the first step is the input of the seconfd step\n",
    "#here 1) input=\"indian\" output=\"indian restaurant name\" 2)input=\"indian restaurant name\" output=\"menu itemsll\" "
   ]
  },
  {
   "cell_type": "code",
   "execution_count": 13,
   "id": "d91a96ba-07a3-4b75-8549-864425a6fe8b",
   "metadata": {},
   "outputs": [],
   "source": [
    "llm=llm = OllamaLLM(model=\"llama3\", temperature=0.6)\n",
    "\n",
    "prompt_template_name=PromptTemplate(\n",
    "    input_variables=['cuisine'],\n",
    "    template=\"I want to open a restaurant for {cuisine} food.Suggest a fancy name for this \"\n",
    ")\n",
    "\n",
    "name_chain=LLMChain(llm=llm,prompt=prompt_template_name)\n",
    "\n",
    "prompt_template_items=PromptTemplate(\n",
    "    input_variables=['restaurant_name'],\n",
    "    template=\"\"\" Suggest some menu items for {restaurant_name}, Return it as a comma separated values\"\"\"\n",
    ")\n",
    "food_items_chain=LLMChain(llm=llm,prompt=prompt_template_items)"
   ]
  },
  {
   "cell_type": "code",
   "execution_count": 14,
   "id": "44f72cac-5028-4b91-b83a-524c5307f8d7",
   "metadata": {},
   "outputs": [
    {
     "name": "stdout",
     "output_type": "stream",
     "text": [
      "{'input': 'Indian', 'output': \"Here are the menu item suggestions for each of the fancy name options:\\n\\nTandoori Bliss: Tandoori Chicken Tikka Masala, Spiced Vegetable Korma, Naan Bread Basket with Garlic Butter and Cilantro Chutney\\nMaharaja's Table: Royal Lamb Curry, Saffron Risotto with Roasted Vegetables, Garam Masala Crusted Salmon Fillet\\nSpice Route Elegance: Moroccan Spice Rubbed Chicken Shawarma, Spiced Pomegranate Glazed Pork Tenderloin, Cardamom and Rosewater Infused Rice Pilaf\\nDhaba Noir: Classic Butter Chicken, Creamy Tomato and Spinach Curry, Garlic Naan with Herbs and Feta Cheese\\nSaffron & Silk: Saffron Risotto with Wild Mushroom Duxelles, Silk Road Spiced Shrimp Cocktail, Cardamom Crème Brûlée with Pistachio Brittle\\nGaram Masala Society: Garam Masala Rubbed Pork Chops, Spiced Apple and Caramelized Onion Tartlet, Creamy Coconut Rice Pudding with Toasted Almonds\\nTaj Palace Cuisine: Imperial Chicken Tikka Masala, Royal Vegetable Biryani, Cardamom and Rosewater Infused Shrikhand (Yogurt Mousse)\\nMumbai Mosaic: Mumbai Street Food Sampler (various small plates), Spiced Lamb Kofta Curry, Coconut Rice Pudding with Fresh Mango Slices\\nCinnamon & Co.: Cinnamon Crusted French Toast with Maple Syrup, Cardamom and Rosewater Infused Coffee, Chai-Spiced Apple Pie à la Mode\\nKarma Kitchen: Karma Curry (vegetarian), Spiced Chickpea Salad with Feta Cheese and Pita Bread, Golden Turmeric Latte with Honey and Ginger\\n\\nHere are the menu item suggestions in a comma-separated values format:\\n\\nTandoori Chicken Tikka Masala, Spiced Vegetable Korma, Naan Bread Basket with Garlic Butter and Cilantro Chutney, Royal Lamb Curry, Saffron Risotto with Roasted Vegetables, Garam Masala Crusted Salmon Fillet, Moroccan Spice Rubbed Chicken Shawarma, Spiced Pomegranate Glazed Pork Tenderloin, Cardamom and Rosewater Infused Rice Pilaf, Classic Butter Chicken, Creamy Tomato and Spinach Curry, Garlic Naan with Herbs and Feta Cheese, Saffron Risotto with Wild Mushroom Duxelles, Silk Road Spiced Shrimp Cocktail, Cardamom Crème Brûlée with Pistachio Brittle, Garam Masala Rubbed Pork Chops, Spiced Apple and Caramelized Onion Tartlet, Creamy Coconut Rice Pudding with Toasted Almonds, Imperial Chicken Tikka Masala, Royal Vegetable Biryani, Cardamom and Rosewater Infused Shrikhand (Yogurt Mousse), Mumbai Street Food Sampler (various small plates), Spiced Lamb Kofta Curry, Coconut Rice Pudding with Fresh Mango Slices, Cinnamon Crusted French Toast with Maple Syrup, Cardamom and Rosewater Infused Coffee, Chai-Spiced Apple Pie à la Mode, Karma Curry (vegetarian), Spiced Chickpea Salad with Feta Cheese and Pita Bread, Golden Turmeric Latte with Honey and Ginger\"}\n"
     ]
    }
   ],
   "source": [
    "from langchain.chains import SimpleSequentialChain\n",
    "\n",
    "chain=SimpleSequentialChain(chains=[name_chain,food_items_chain])\n",
    "response=chain.invoke(\"Indian\")\n",
    "print(response)"
   ]
  },
  {
   "cell_type": "code",
   "execution_count": 15,
   "id": "f9b47f22-b0c5-41d0-a5cd-96f5360af063",
   "metadata": {},
   "outputs": [],
   "source": [
    "#if we want both restaurant name and menu items both then we need to use sequentialchain it can have multiple input and multiple output"
   ]
  },
  {
   "cell_type": "code",
   "execution_count": 27,
   "id": "e911a97d-2d03-4706-9abf-34d898b3c1df",
   "metadata": {},
   "outputs": [
    {
     "name": "stdout",
     "output_type": "stream",
     "text": [
      "Restaurant Name: What a delicious task!\n",
      "\n",
      "Here are some name suggestions for an Arabic restaurant:\n",
      "\n",
      "1. **Mashawi** (ماشاوي) - meaning \"tasty\" or \"delicious\", which is fitting for a foodie haven.\n",
      "2. **Khidmat** (خيدمت) - a play on the word \"service\" with an Arabic twist, emphasizing the warm hospitality of Middle Eastern culture.\n",
      "3. **Shawarma Palace** - a nod to the popular street food and the regal, inviting atmosphere of the restaurant.\n",
      "4. **Sufra** (سفورا) - meaning \"tablecloth\", evoking the rich cultural heritage and lively gatherings around the table.\n",
      "5. **Majlis** (مجليس) - a gathering place or council chamber, conveying the sense of community and warmth that Arabic cuisine embodies.\n",
      "6. **Oum Kalthoum's Kitchen** - named after the legendary Egyptian singer Oum Kalthoum, this name combines the authenticity of traditional Arabic music with the comfort of home cooking.\n",
      "7. **Al-Andalus Café** - a reference to the rich cultural exchange and culinary traditions of Moorish Spain, blending past and present in a single name.\n",
      "8. **Hummus Haven** - highlighting the creamy, savory delight that is hummus, often served as an appetizer or side dish in Arabic cuisine.\n",
      "\n",
      "Choose one that resonates with you, or feel free to modify these suggestions to create a unique identity for your restaurant!\n",
      "Menu Items: I love the creativity and cultural references in these name suggestions! After reviewing them, I've chosen one that I think fits well with the theme of an Arabic restaurant:\n",
      "\n",
      "**Mashawi** (ماشاوي) - meaning \"tasty\" or \"delicious\", which is fitting for a foodie haven.\n",
      "\n",
      "Here are five menu item suggestions to complement this name:\n",
      "\n",
      "1. **Mashawi's Masterpiece Shawarma**: A signature dish featuring tender lamb or chicken, crispy falafel, creamy hummus, and crunchy pickled turnips, all wrapped in a warm pita bread.\n",
      "2. **Spice Route Chicken**: Marinated chicken cooked in a rich, aromatic blend of Middle Eastern spices, served with fluffy basmati rice and steamed vegetables.\n",
      "3. **Sweet Delight Dates**: Fresh dates stuffed with creamy goat cheese, crispy pistachios, and a drizzle of honey, perfect for snacking or as an appetizer.\n",
      "4. **Fattoush Frenzy**: A refreshing salad featuring crispy pita bread croutons, juicy tomatoes, crunchy cucumbers, and tangy feta cheese, all topped with a zesty lemon-herb dressing.\n",
      "5. **Kunafeh Kisses**: Shredded phyllo pastry filled with sweet cheese and rosewater, drizzled with a honey syrup and sprinkled with chopped pistachios, perfect for a sweet treat or dessert.\n",
      "\n",
      "These menu items play off the \"tasty\" theme of the restaurant's name, Mashawi, while showcasing the rich flavors and textures of Arabic cuisine.\n"
     ]
    }
   ],
   "source": [
    "from langchain_ollama import OllamaLLM\n",
    "from langchain.prompts import PromptTemplate\n",
    "from langchain.chains import LLMChain, SequentialChain\n",
    "\n",
    "# Initialize LLM\n",
    "llm = OllamaLLM(model=\"llama3\", temperature=0.7)\n",
    "\n",
    "# Chain 1: Generate restaurant name\n",
    "prompt_template_name = PromptTemplate(\n",
    "    input_variables=[\"cuisine\"],\n",
    "    template=\"Suggest a name for a {cuisine} restaurant.\"\n",
    ")\n",
    "name_chain = LLMChain(llm=llm, prompt=prompt_template_name, output_key=\"restaurant_name\")\n",
    "\n",
    "# Chain 2: Generate menu items\n",
    "prompt_template_food_items = PromptTemplate(\n",
    "    input_variables=[\"cuisine\", \"restaurant_name\"],\n",
    "    template=\"Suggest 5 menu items for a {cuisine} restaurant called {restaurant_name}.\"\n",
    ")\n",
    "food_items_chain = LLMChain(llm=llm, prompt=prompt_template_food_items, output_key=\"menu_items\")\n",
    "\n",
    "# Combine chains\n",
    "full_chain = SequentialChain(\n",
    "    chains=[name_chain, food_items_chain],\n",
    "    input_variables=[\"cuisine\"],\n",
    "    output_variables=[\"restaurant_name\", \"menu_items\"]\n",
    ")\n",
    "\n",
    "# ✅ Use invoke() instead of calling the chain directly\n",
    "response = full_chain.invoke({\"cuisine\": \"Arabic\"})\n",
    "\n",
    "# Print result\n",
    "print(\"Restaurant Name:\", response[\"restaurant_name\"])\n",
    "print(\"Menu Items:\", response[\"menu_items\"])"
   ]
  },
  {
   "cell_type": "code",
   "execution_count": null,
   "id": "5622f7fa-d615-4f29-ac75-ea1630ee6c73",
   "metadata": {},
   "outputs": [],
   "source": []
  },
  {
   "cell_type": "code",
   "execution_count": null,
   "id": "575cc26f-c96b-48d6-beb6-da7cdb149c6b",
   "metadata": {},
   "outputs": [],
   "source": []
  },
  {
   "cell_type": "code",
   "execution_count": null,
   "id": "0f3c1ce3-96ab-4799-9ca4-18131de3c989",
   "metadata": {},
   "outputs": [],
   "source": []
  }
 ],
 "metadata": {
  "kernelspec": {
   "display_name": "Python 3 (ipykernel)",
   "language": "python",
   "name": "python3"
  },
  "language_info": {
   "codemirror_mode": {
    "name": "ipython",
    "version": 3
   },
   "file_extension": ".py",
   "mimetype": "text/x-python",
   "name": "python",
   "nbconvert_exporter": "python",
   "pygments_lexer": "ipython3",
   "version": "3.12.4"
  }
 },
 "nbformat": 4,
 "nbformat_minor": 5
}
